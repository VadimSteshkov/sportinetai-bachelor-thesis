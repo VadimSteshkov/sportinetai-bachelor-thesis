{
 "cells": [
  {
   "cell_type": "markdown",
   "id": "ba3cab46-4fa6-4afa-929a-6509f791458b",
   "metadata": {},
   "source": [
    "# Build a Prediction Model Using the DataFrame"
   ]
  },
  {
   "cell_type": "code",
   "execution_count": null,
   "id": "f1dcac7c-cdd9-4132-91eb-2aad7d3d0edc",
   "metadata": {},
   "outputs": [],
   "source": []
  },
  {
   "cell_type": "code",
   "execution_count": null,
   "id": "4ebc1479-cb70-4bcb-bd4d-c73fbfd8c183",
   "metadata": {},
   "outputs": [],
   "source": []
  },
  {
   "cell_type": "code",
   "execution_count": 18,
   "id": "784830ac-0359-4e7a-a99d-91dfa0096590",
   "metadata": {},
   "outputs": [],
   "source": [
    "import pandas as pd"
   ]
  },
  {
   "cell_type": "code",
   "execution_count": 19,
   "id": "d0b6572f-9a7a-4e30-b8c5-aa8f41e8d17c",
   "metadata": {},
   "outputs": [],
   "source": [
    "# Load the dataset\n",
    "ufc_data = pd.read_csv('data/processed/ufc_fight_data_cleaned.csv')\n"
   ]
  },
  {
   "cell_type": "code",
   "execution_count": 20,
   "id": "d6fd7106-1485-4443-89de-55098efd6e82",
   "metadata": {},
   "outputs": [
    {
     "name": "stdout",
     "output_type": "stream",
     "text": [
      "Проверка на пропуски после заполнения:\n",
      "event_name            0\n",
      "date                  0\n",
      "location              0\n",
      "r_fighter             0\n",
      "b_fighter             0\n",
      "                     ..\n",
      "td_acc_total_diff     0\n",
      "str_def_total_diff    0\n",
      "td_def_total_diff     0\n",
      "sub_avg_diff          0\n",
      "td_avg_diff           0\n",
      "Length: 97, dtype: int64\n"
     ]
    }
   ],
   "source": [
    "numeric_columns = ufc_data.select_dtypes(include=['number']).columns\n",
    "ufc_data[numeric_columns] = ufc_data[numeric_columns].fillna(ufc_data[numeric_columns].mean())\n",
    "\n",
    "# 2. Для строковых столбцов заполняем самым частым значением\n",
    "string_columns = ufc_data.select_dtypes(include=['object']).columns\n",
    "ufc_data[string_columns] = ufc_data[string_columns].fillna(ufc_data[string_columns].mode().iloc[0])\n",
    "\n",
    "# Проверка, что пропусков больше нет\n",
    "print(\"Проверка на пропуски после заполнения:\")\n",
    "print(ufc_data.isnull().sum())"
   ]
  },
  {
   "cell_type": "code",
   "execution_count": 22,
   "id": "2f207585-a170-4ecf-94ab-5dbff48fe911",
   "metadata": {},
   "outputs": [
    {
     "name": "stdout",
     "output_type": "stream",
     "text": [
      "Column names in the dataset:\n",
      "Index(['event_name', 'date', 'location', 'r_fighter', 'b_fighter', 'winner',\n",
      "       'weight_class', 'is_title_bout', 'gender', 'method', 'finish_round',\n",
      "       'total_rounds', 'time_sec', 'referee', 'r_kd', 'r_sig_str',\n",
      "       'r_sig_str_att', 'r_sig_str_acc', 'r_str', 'r_str_att', 'r_str_acc',\n",
      "       'r_td', 'r_td_att', 'r_td_acc', 'r_sub_att', 'r_rev', 'r_ctrl_sec',\n",
      "       'r_wins_total', 'r_losses_total', 'r_age', 'r_height', 'r_weight',\n",
      "       'r_reach', 'r_stance', 'r_SLpM_total', 'r_SApM_total',\n",
      "       'r_sig_str_acc_total', 'r_td_acc_total', 'r_str_def_total',\n",
      "       'r_td_def_total', 'r_sub_avg', 'r_td_avg', 'b_kd', 'b_sig_str',\n",
      "       'b_sig_str_att', 'b_sig_str_acc', 'b_str', 'b_str_att', 'b_str_acc',\n",
      "       'b_td', 'b_td_att', 'b_td_acc', 'b_sub_att', 'b_rev', 'b_ctrl_sec',\n",
      "       'b_wins_total', 'b_losses_total', 'b_age', 'b_height', 'b_weight',\n",
      "       'b_reach', 'b_stance', 'b_SLpM_total', 'b_SApM_total',\n",
      "       'b_sig_str_acc_total', 'b_td_acc_total', 'b_str_def_total',\n",
      "       'b_td_def_total', 'b_sub_avg', 'b_td_avg', 'kd_diff', 'sig_str_diff',\n",
      "       'sig_str_att_diff', 'sig_str_acc_diff', 'str_diff', 'str_att_diff',\n",
      "       'str_acc_diff', 'td_diff', 'td_att_diff', 'td_acc_diff', 'sub_att_diff',\n",
      "       'rev_diff', 'ctrl_sec_diff', 'wins_total_diff', 'losses_total_diff',\n",
      "       'age_diff', 'height_diff', 'weight_diff', 'reach_diff',\n",
      "       'SLpM_total_diff', 'SApM_total_diff', 'sig_str_acc_total_diff',\n",
      "       'td_acc_total_diff', 'str_def_total_diff', 'td_def_total_diff',\n",
      "       'sub_avg_diff', 'td_avg_diff'],\n",
      "      dtype='object')\n",
      "The 'winner' column exists in the dataset.\n"
     ]
    }
   ],
   "source": [
    "# Display the list of column names\n",
    "print(\"Column names in the dataset:\")\n",
    "print(ufc_data.columns)\n",
    "# Saving the current DataFrame to the specified path with a descriptive filename\n",
    "\n",
    "\n",
    "if 'winner' in ufc_data.columns:\n",
    "    print(\"The 'winner' column exists in the dataset.\")\n",
    "else:\n",
    "    print(\"The 'winner' column does not exist in the dataset.\")"
   ]
  },
  {
   "cell_type": "code",
   "execution_count": 24,
   "id": "5b887cfc-eb83-4ba8-a8f5-cb197d9fe30b",
   "metadata": {},
   "outputs": [
    {
     "name": "stdout",
     "output_type": "stream",
     "text": [
      "Размер тренировочного набора: (5951, 6047)\n",
      "Размер тестового набора: (1488, 6047)\n"
     ]
    }
   ],
   "source": [
    "# 1. Сначала определим целевую переменную 'y' до кодирования\n",
    "y = ufc_data['winner']  # Убедитесь, что 'winner' — целевая переменная\n",
    "\n",
    "# 2. Удалим 'winner' из признаков перед кодированием\n",
    "X = ufc_data.drop(columns=['winner'])\n",
    "\n",
    "# 3. Кодирование категориальных признаков\n",
    "X_encoded = pd.get_dummies(X, drop_first=True)\n",
    "\n",
    "# 4. Разделение на тренировочную и тестовую выборки\n",
    "X_train, X_test, y_train, y_test = train_test_split(X_encoded, y, test_size=0.2, random_state=42)\n",
    "\n",
    "# Проверка размеров выборок\n",
    "print(\"Размер тренировочного набора:\", X_train.shape)\n",
    "print(\"Размер тестового набора:\", X_test.shape)\n"
   ]
  },
  {
   "cell_type": "code",
   "execution_count": 25,
   "id": "074ef2fb-d75f-4bf4-9b3b-91a669123324",
   "metadata": {},
   "outputs": [
    {
     "name": "stdout",
     "output_type": "stream",
     "text": [
      "Accuracy of the model: 0.8823924731182796\n",
      "\n",
      "Classification Report:\n",
      "              precision    recall  f1-score   support\n",
      "\n",
      "        Blue       0.88      0.76      0.82       517\n",
      "         Red       0.88      0.95      0.91       971\n",
      "\n",
      "    accuracy                           0.88      1488\n",
      "   macro avg       0.88      0.85      0.87      1488\n",
      "weighted avg       0.88      0.88      0.88      1488\n",
      "\n"
     ]
    }
   ],
   "source": [
    "from sklearn.ensemble import RandomForestClassifier\n",
    "from sklearn.metrics import accuracy_score, classification_report\n",
    "\n",
    "# Инициализация и обучение модели\n",
    "model = RandomForestClassifier(random_state=42)\n",
    "model.fit(X_train, y_train)\n",
    "\n",
    "# Предсказание на тестовых данных\n",
    "y_pred = model.predict(X_test)\n",
    "\n",
    "# Оценка качества модели\n",
    "accuracy = accuracy_score(y_test, y_pred)\n",
    "report = classification_report(y_test, y_pred)\n",
    "\n",
    "print(\"Accuracy of the model:\", accuracy)\n",
    "print(\"\\nClassification Report:\")\n",
    "print(report)\n"
   ]
  },
  {
   "cell_type": "code",
   "execution_count": 29,
   "id": "254a8de1-0b34-475a-a1c6-6e64ea468c97",
   "metadata": {},
   "outputs": [
    {
     "name": "stdout",
     "output_type": "stream",
     "text": [
      "Тестовые данные для предсказания:\n",
      "         r_fighter         b_fighter  r_kd  r_sig_str  r_sig_str_att  \\\n",
      "0  Khamzat Chimaev  Robert Whittaker   1.0       31.0           63.0   \n",
      "\n",
      "   r_sig_str_acc  b_kd  b_sig_str  b_sig_str_att  b_sig_str_acc  \n",
      "0           0.49   0.4       70.4          173.6          0.394  \n"
     ]
    }
   ],
   "source": [
    "# Предположим, что исходный DataFrame называется ufc_data и содержит данные обо всех бойцах\n",
    "r_fighter_data = ufc_data[ufc_data['r_fighter'] == 'Ilia Topuria']\n",
    "b_fighter_data = ufc_data[ufc_data['b_fighter'] == 'Max Holloway']\n",
    "\n",
    "# Проверка на наличие данных\n",
    "if not r_fighter_data.empty and not b_fighter_data.empty:\n",
    "    # Усреднение только числовых данных\n",
    "    r_fighter_avg = r_fighter_data.select_dtypes(include=['number']).mean()\n",
    "    b_fighter_avg = b_fighter_data.select_dtypes(include=['number']).mean()\n",
    "\n",
    "    # Создание тестового набора данных с объединенными характеристиками бойцов\n",
    "    test_data = pd.DataFrame({\n",
    "        'r_fighter': ['Khamzat Chimaev'],\n",
    "        'b_fighter': ['Robert Whittaker'],\n",
    "        'r_kd': [r_fighter_avg.get('r_kd', 0)],\n",
    "        'r_sig_str': [r_fighter_avg.get('r_sig_str', 0)],\n",
    "        'r_sig_str_att': [r_fighter_avg.get('r_sig_str_att', 0)],\n",
    "        'r_sig_str_acc': [r_fighter_avg.get('r_sig_str_acc', 0)],\n",
    "        'b_kd': [b_fighter_avg.get('b_kd', 0)],\n",
    "        'b_sig_str': [b_fighter_avg.get('b_sig_str', 0)],\n",
    "        'b_sig_str_att': [b_fighter_avg.get('b_sig_str_att', 0)],\n",
    "        'b_sig_str_acc': [b_fighter_avg.get('b_sig_str_acc', 0)],\n",
    "        # Добавьте остальные нужные признаки\n",
    "    })\n",
    "\n",
    "    print(\"Тестовые данные для предсказания:\")\n",
    "    print(test_data)\n",
    "else:\n",
    "    print(\"Данные для одного или обоих бойцов отсутствуют в DataFrame.\")\n"
   ]
  },
  {
   "cell_type": "code",
   "execution_count": 30,
   "id": "4af713e7-76bf-4057-bb6b-ffc70bdbf2c7",
   "metadata": {},
   "outputs": [
    {
     "name": "stdout",
     "output_type": "stream",
     "text": [
      "Предсказание победителя: Red (Khamzat Chimaev)\n"
     ]
    }
   ],
   "source": [
    "# Кодирование категориальных переменных, чтобы совпадало с тренировочными данными\n",
    "test_data_encoded = pd.get_dummies(test_data, drop_first=True)\n",
    "\n",
    "# Убедимся, что test_data_encoded имеет те же колонки, что и X_train\n",
    "test_data_encoded = test_data_encoded.reindex(columns=X_train.columns, fill_value=0)\n",
    "\n",
    "# Выполним предсказание\n",
    "prediction = model.predict(test_data_encoded)\n",
    "\n",
    "# Интерпретация результата\n",
    "result = \"Red (Khamzat Chimaev)\" if prediction[0] == 'Red' else \"Blue (Robert Whittaker)\"\n",
    "print(\"Предсказание победителя:\", result)\n"
   ]
  },
  {
   "cell_type": "code",
   "execution_count": null,
   "id": "a9ea6221-b29f-419b-a5ec-33a60025bb17",
   "metadata": {},
   "outputs": [],
   "source": []
  },
  {
   "cell_type": "code",
   "execution_count": 31,
   "id": "ec676431-913c-48b0-a97b-ed3ed47b555e",
   "metadata": {},
   "outputs": [
    {
     "name": "stdout",
     "output_type": "stream",
     "text": [
      "Предсказание победителя: Red (Ilia Topuria)\n"
     ]
    }
   ],
   "source": [
    "# 1. Кодирование категориальных переменных\n",
    "test_data_encoded = pd.get_dummies(test_data, drop_first=True)\n",
    "\n",
    "# Убедимся, что у test_data_encoded есть те же колонки, что и у X_train\n",
    "# Если каких-то колонок не хватает, они будут заполнены значением 0\n",
    "test_data_encoded = test_data_encoded.reindex(columns=X_train.columns, fill_value=0)\n",
    "\n",
    "# 2. Выполнение предсказания\n",
    "prediction = model.predict(test_data_encoded)\n",
    "\n",
    "# 3. Интерпретация результата\n",
    "result = \"Red (Ilia Topuria)\" if prediction[0] == 'Red' else \"Blue (Max Holloway)\"\n",
    "print(\"Предсказание победителя:\", result)\n"
   ]
  },
  {
   "cell_type": "code",
   "execution_count": null,
   "id": "fb7596c9-ef65-4064-8e95-1061a9055e62",
   "metadata": {},
   "outputs": [],
   "source": []
  },
  {
   "cell_type": "code",
   "execution_count": null,
   "id": "0474a8e4-f3f6-46d3-8738-44a085f27a04",
   "metadata": {},
   "outputs": [],
   "source": []
  },
  {
   "cell_type": "code",
   "execution_count": 38,
   "id": "33ee9a58-fe01-4ccd-a020-cecb3b0fcf0c",
   "metadata": {},
   "outputs": [
    {
     "name": "stdout",
     "output_type": "stream",
     "text": [
      "Тестовые данные для предсказания:\n",
      "             r_fighter     b_fighter  r_kd  r_sig_str  r_sig_str_att  \\\n",
      "0  Khabib Nurmagomedov  Ilia Topuria   0.0     66.625          126.0   \n",
      "\n",
      "   r_sig_str_acc      b_kd  b_sig_str  b_sig_str_att  b_sig_str_acc  \n",
      "0        0.53875  0.666667  46.333333     100.666667       0.471667  \n",
      "Предсказание победителя: Red (Khabib Nurmagomedov)\n"
     ]
    }
   ],
   "source": [
    "# Предположим, что исходный DataFrame называется ufc_data и содержит данные обо всех бойцах\n",
    "r_fighter_data = ufc_data[ufc_data['r_fighter'] == 'Khabib Nurmagomedov']\n",
    "b_fighter_data = ufc_data[ufc_data['b_fighter'] == 'Ilia Topuria']\n",
    "\n",
    "# Проверка на наличие данных\n",
    "if not r_fighter_data.empty and not b_fighter_data.empty:\n",
    "    # Усреднение только числовых данных\n",
    "    r_fighter_avg = r_fighter_data.select_dtypes(include=['number']).mean()\n",
    "    b_fighter_avg = b_fighter_data.select_dtypes(include=['number']).mean()\n",
    "\n",
    "    # Создание тестового набора данных с объединенными характеристиками бойцов\n",
    "    test_data = pd.DataFrame({\n",
    "        'r_fighter': ['Khabib Nurmagomedov'],\n",
    "        'b_fighter': ['Ilia Topuria'],\n",
    "        'r_kd': [r_fighter_avg.get('r_kd', 0)],\n",
    "        'r_sig_str': [r_fighter_avg.get('r_sig_str', 0)],\n",
    "        'r_sig_str_att': [r_fighter_avg.get('r_sig_str_att', 0)],\n",
    "        'r_sig_str_acc': [r_fighter_avg.get('r_sig_str_acc', 0)],\n",
    "        'b_kd': [b_fighter_avg.get('b_kd', 0)],\n",
    "        'b_sig_str': [b_fighter_avg.get('b_sig_str', 0)],\n",
    "        'b_sig_str_att': [b_fighter_avg.get('b_sig_str_att', 0)],\n",
    "        'b_sig_str_acc': [b_fighter_avg.get('b_sig_str_acc', 0)],\n",
    "        # Добавьте остальные нужные признаки\n",
    "    })\n",
    "\n",
    "    print(\"Тестовые данные для предсказания:\")\n",
    "    print(test_data)\n",
    "    \n",
    "    # Кодирование категориальных переменных\n",
    "    test_data_encoded = pd.get_dummies(test_data, drop_first=True)\n",
    "    test_data_encoded = test_data_encoded.reindex(columns=X_train.columns, fill_value=0)\n",
    "\n",
    "    # Выполнение предсказания\n",
    "    prediction = model.predict(test_data_encoded)\n",
    "    result = \"Red (Khabib Nurmagomedov)\" if prediction[0] == 'Red' else \"Blue (Ilia Topuria)\"\n",
    "    print(\"Предсказание победителя:\", result)\n",
    "else:\n",
    "    print(\"Данные для одного или обоих бойцов отсутствуют в DataFrame.\")\n"
   ]
  },
  {
   "cell_type": "code",
   "execution_count": 39,
   "id": "3e4034d1-6551-442f-80eb-f743ba769ace",
   "metadata": {},
   "outputs": [
    {
     "name": "stdout",
     "output_type": "stream",
     "text": [
      "Количество побед Red: 4876\n",
      "Количество побед Blue: 2563\n"
     ]
    }
   ],
   "source": [
    "# Подсчет побед по значениям в колонке 'winner'\n",
    "winner_counts = ufc_data['winner'].value_counts()\n",
    "\n",
    "# Вывод количества побед Red и Blue\n",
    "print(\"Количество побед Red:\", winner_counts.get('Red', 0))\n",
    "print(\"Количество побед Blue:\", winner_counts.get('Blue', 0))\n"
   ]
  },
  {
   "cell_type": "code",
   "execution_count": 41,
   "id": "e593013e-4340-4e9a-896c-d0f88287b1fd",
   "metadata": {},
   "outputs": [
    {
     "name": "stdout",
     "output_type": "stream",
     "text": [
      "Названия колонок после кодирования: Index(['is_title_bout', 'finish_round', 'total_rounds', 'time_sec', 'r_kd',\n",
      "       'r_sig_str', 'r_sig_str_att', 'r_sig_str_acc', 'r_str', 'r_str_att',\n",
      "       ...\n",
      "       'referee_Wolf Menninger', 'referee_Yves Lavigne', 'r_stance_Orthodox',\n",
      "       'r_stance_Sideways', 'r_stance_Southpaw', 'r_stance_Switch',\n",
      "       'b_stance_Orthodox', 'b_stance_Sideways', 'b_stance_Southpaw',\n",
      "       'b_stance_Switch'],\n",
      "      dtype='object', length=6048)\n",
      "Целевая колонка: ['winner_Red']\n",
      "Точность модели: 0.8870967741935484\n",
      "Отчет по классификации:\n",
      "              precision    recall  f1-score   support\n",
      "\n",
      "       False       0.88      0.79      0.83       517\n",
      "        True       0.89      0.94      0.92       971\n",
      "\n",
      "    accuracy                           0.89      1488\n",
      "   macro avg       0.88      0.86      0.87      1488\n",
      "weighted avg       0.89      0.89      0.89      1488\n",
      "\n"
     ]
    }
   ],
   "source": [
    "# Проверьте названия всех колонок после кодирования\n",
    "print(\"Названия колонок после кодирования:\", ufc_data_encoded.columns)\n",
    "\n",
    "# Найдите и сохраните название колонки для целевой переменной 'winner'\n",
    "winner_columns = [col for col in ufc_data_encoded.columns if 'winner' in col]\n",
    "print(\"Целевая колонка:\", winner_columns)\n",
    "\n",
    "# Если 'winner' была закодирована, выберите первую найденную колонку как целевую переменную\n",
    "if winner_columns:\n",
    "    target_column = winner_columns[0]\n",
    "else:\n",
    "    raise ValueError(\"Целевая колонка 'winner' не найдена после кодирования.\")\n",
    "\n",
    "# Разделите признаки и целевую переменную\n",
    "X = ufc_data_encoded.drop(columns=winner_columns)\n",
    "y = ufc_data_encoded[target_column]\n",
    "\n",
    "# Теперь можно продолжить с разделением данных и обучением\n",
    "X_train, X_test, y_train, y_test = train_test_split(X, y, test_size=0.2, random_state=42)\n",
    "\n",
    "# Инициализация модели с балансировкой классов и обучением\n",
    "model = RandomForestClassifier(class_weight='balanced', random_state=42)\n",
    "model.fit(X_train, y_train)\n",
    "\n",
    "# Выполнение предсказания на тестовых данных\n",
    "y_pred = model.predict(X_test)\n",
    "print(\"Точность модели:\", accuracy_score(y_test, y_pred))\n",
    "print(\"Отчет по классификации:\")\n",
    "print(classification_report(y_test, y_pred))\n"
   ]
  },
  {
   "cell_type": "code",
   "execution_count": 42,
   "id": "21f45022-2131-4000-8884-fe5a9279a382",
   "metadata": {},
   "outputs": [
    {
     "name": "stdout",
     "output_type": "stream",
     "text": [
      "Тестовые данные для предсказания:\n",
      "             r_fighter     b_fighter  r_kd  r_sig_str  r_sig_str_att  \\\n",
      "0  Khabib Nurmagomedov  Ilia Topuria   0.0     66.625          126.0   \n",
      "\n",
      "   r_sig_str_acc      b_kd  b_sig_str  b_sig_str_att  b_sig_str_acc  \n",
      "0        0.53875  0.666667  46.333333     100.666667       0.471667  \n",
      "Предсказание победителя: Red (Khabib Nurmagomedov)\n"
     ]
    }
   ],
   "source": [
    "# Извлечение данных для бойцов\n",
    "r_fighter_data = ufc_data[ufc_data['r_fighter'] == 'Khabib Nurmagomedov']\n",
    "b_fighter_data = ufc_data[ufc_data['b_fighter'] == 'Ilia Topuria']\n",
    "\n",
    "# Проверка на наличие данных для обоих бойцов\n",
    "if not r_fighter_data.empty and not b_fighter_data.empty:\n",
    "    # Усреднение числовых данных для каждого бойца\n",
    "    r_fighter_avg = r_fighter_data.select_dtypes(include=['number']).mean()\n",
    "    b_fighter_avg = b_fighter_data.select_dtypes(include=['number']).mean()\n",
    "\n",
    "    # Создание DataFrame для предсказания\n",
    "    test_data = pd.DataFrame({\n",
    "        'r_fighter': ['Khabib Nurmagomedov'],\n",
    "        'b_fighter': ['Ilia Topuria'],\n",
    "        'r_kd': [r_fighter_avg.get('r_kd', 0)],\n",
    "        'r_sig_str': [r_fighter_avg.get('r_sig_str', 0)],\n",
    "        'r_sig_str_att': [r_fighter_avg.get('r_sig_str_att', 0)],\n",
    "        'r_sig_str_acc': [r_fighter_avg.get('r_sig_str_acc', 0)],\n",
    "        'b_kd': [b_fighter_avg.get('b_kd', 0)],\n",
    "        'b_sig_str': [b_fighter_avg.get('b_sig_str', 0)],\n",
    "        'b_sig_str_att': [b_fighter_avg.get('b_sig_str_att', 0)],\n",
    "        'b_sig_str_acc': [b_fighter_avg.get('b_sig_str_acc', 0)],\n",
    "        # Добавьте остальные необходимые признаки\n",
    "    })\n",
    "\n",
    "    print(\"Тестовые данные для предсказания:\")\n",
    "    print(test_data)\n",
    "    \n",
    "    # Кодирование категориальных переменных\n",
    "    test_data_encoded = pd.get_dummies(test_data, drop_first=True)\n",
    "    test_data_encoded = test_data_encoded.reindex(columns=X_train.columns, fill_value=0)\n",
    "\n",
    "    # Выполнение предсказания\n",
    "    prediction = model.predict(test_data_encoded)\n",
    "    result = \"Red (Khabib Nurmagomedov)\" if prediction[0] else \"Blue (Ilia Topuria)\"\n",
    "    print(\"Предсказание победителя:\", result)\n",
    "else:\n",
    "    print(\"Данные для одного или обоих бойцов отсутствуют в DataFrame.\")\n"
   ]
  },
  {
   "cell_type": "code",
   "execution_count": 43,
   "id": "20830a34-5521-455d-8f20-5acdf1a76785",
   "metadata": {},
   "outputs": [
    {
     "name": "stdout",
     "output_type": "stream",
     "text": [
      "Тестовые данные для предсказания:\n",
      "      r_fighter            b_fighter  r_kd  r_sig_str  r_sig_str_att  \\\n",
      "0  Ilia Topuria  Khabib Nurmagomedov   1.0       31.0           63.0   \n",
      "\n",
      "   r_sig_str_acc  b_kd  b_sig_str  b_sig_str_att  b_sig_str_acc  \n",
      "0           0.49   0.4       34.4           87.2          0.434  \n",
      "Предсказание победителя: Red (Ilia Topuria)\n"
     ]
    }
   ],
   "source": [
    "# Извлечение данных для бойцов\n",
    "r_fighter_data = ufc_data[ufc_data['r_fighter'] == 'Ilia Topuria']\n",
    "b_fighter_data = ufc_data[ufc_data['b_fighter'] == 'Khabib Nurmagomedov']\n",
    "\n",
    "# Проверка на наличие данных для обоих бойцов\n",
    "if not r_fighter_data.empty and not b_fighter_data.empty:\n",
    "    # Усреднение числовых данных для каждого бойца\n",
    "    r_fighter_avg = r_fighter_data.select_dtypes(include=['number']).mean()\n",
    "    b_fighter_avg = b_fighter_data.select_dtypes(include=['number']).mean()\n",
    "\n",
    "    # Создание DataFrame для предсказания\n",
    "    test_data = pd.DataFrame({\n",
    "        'r_fighter': ['Ilia Topuria'],\n",
    "        'b_fighter': ['Khabib Nurmagomedov'],\n",
    "        'r_kd': [r_fighter_avg.get('r_kd', 0)],\n",
    "        'r_sig_str': [r_fighter_avg.get('r_sig_str', 0)],\n",
    "        'r_sig_str_att': [r_fighter_avg.get('r_sig_str_att', 0)],\n",
    "        'r_sig_str_acc': [r_fighter_avg.get('r_sig_str_acc', 0)],\n",
    "        'b_kd': [b_fighter_avg.get('b_kd', 0)],\n",
    "        'b_sig_str': [b_fighter_avg.get('b_sig_str', 0)],\n",
    "        'b_sig_str_att': [b_fighter_avg.get('b_sig_str_att', 0)],\n",
    "        'b_sig_str_acc': [b_fighter_avg.get('b_sig_str_acc', 0)],\n",
    "        # Добавьте остальные необходимые признаки\n",
    "    })\n",
    "\n",
    "    print(\"Тестовые данные для предсказания:\")\n",
    "    print(test_data)\n",
    "    \n",
    "    # Кодирование категориальных переменных\n",
    "    test_data_encoded = pd.get_dummies(test_data, drop_first=True)\n",
    "    test_data_encoded = test_data_encoded.reindex(columns=X_train.columns, fill_value=0)\n",
    "\n",
    "    # Выполнение предсказания\n",
    "    prediction = model.predict(test_data_encoded)\n",
    "    result = \"Red (Ilia Topuria)\" if prediction[0] else \"Blue (Khabib Nurmagomedov)\"\n",
    "    print(\"Предсказание победителя:\", result)\n",
    "else:\n",
    "    print(\"Данные для одного или обоих бойцов отсутствуют в DataFrame.\")\n"
   ]
  },
  {
   "cell_type": "code",
   "execution_count": 44,
   "id": "c13dce19-f4ab-4932-b6ca-eabcb4a79b3f",
   "metadata": {},
   "outputs": [
    {
     "name": "stdout",
     "output_type": "stream",
     "text": [
      "Точность модели: 0.8850806451612904\n",
      "Отчет по классификации:\n",
      "              precision    recall  f1-score   support\n",
      "\n",
      "       False       0.80      0.89      0.84       517\n",
      "        True       0.94      0.88      0.91       971\n",
      "\n",
      "    accuracy                           0.89      1488\n",
      "   macro avg       0.87      0.89      0.88      1488\n",
      "weighted avg       0.89      0.89      0.89      1488\n",
      "\n"
     ]
    },
    {
     "name": "stderr",
     "output_type": "stream",
     "text": [
      "/Users/vadim/BachelorThesis/SportiNetAI/.venv/lib/python3.11/site-packages/sklearn/linear_model/_logistic.py:469: ConvergenceWarning: lbfgs failed to converge (status=1):\n",
      "STOP: TOTAL NO. of ITERATIONS REACHED LIMIT.\n",
      "\n",
      "Increase the number of iterations (max_iter) or scale the data as shown in:\n",
      "    https://scikit-learn.org/stable/modules/preprocessing.html\n",
      "Please also refer to the documentation for alternative solver options:\n",
      "    https://scikit-learn.org/stable/modules/linear_model.html#logistic-regression\n",
      "  n_iter_i = _check_optimize_result(\n"
     ]
    }
   ],
   "source": [
    "from sklearn.linear_model import LogisticRegression\n",
    "from sklearn.model_selection import train_test_split\n",
    "from sklearn.metrics import accuracy_score, classification_report\n",
    "import pandas as pd\n",
    "\n",
    "# Предполагаем, что 'ufc_data' — это основной DataFrame с данными\n",
    "# и 'winner' является целевой переменной, закодированной как 'winner_Red'.\n",
    "\n",
    "# Кодирование категориальных признаков\n",
    "ufc_data_encoded = pd.get_dummies(ufc_data, drop_first=True)\n",
    "\n",
    "# Разделение данных на признаки и целевую переменную\n",
    "X = ufc_data_encoded.drop(columns=['winner_Red'])\n",
    "y = ufc_data_encoded['winner_Red']\n",
    "\n",
    "# Разделение на обучающую и тестовую выборки\n",
    "X_train, X_test, y_train, y_test = train_test_split(X, y, test_size=0.2, random_state=42)\n",
    "\n",
    "# Инициализация логистической регрессии с балансировкой классов\n",
    "log_reg_model = LogisticRegression(class_weight='balanced', max_iter=1000, random_state=42)\n",
    "log_reg_model.fit(X_train, y_train)\n",
    "\n",
    "# Выполнение предсказания на тестовых данных\n",
    "y_pred = log_reg_model.predict(X_test)\n",
    "\n",
    "# Оценка точности и отчет по классификации\n",
    "print(\"Точность модели:\", accuracy_score(y_test, y_pred))\n",
    "print(\"Отчет по классификации:\")\n",
    "print(classification_report(y_test, y_pred))\n"
   ]
  },
  {
   "cell_type": "code",
   "execution_count": 48,
   "id": "309b2981-3885-489a-8b63-b40dd8d86c20",
   "metadata": {},
   "outputs": [
    {
     "name": "stdout",
     "output_type": "stream",
     "text": [
      "Предсказание победителя: Blue (Ilia Topuria)\n"
     ]
    }
   ],
   "source": [
    "# Подготовка данных для боя между Khabib Nurmagomedov и Ilia Topuria\n",
    "r_fighter_data = ufc_data[ufc_data['r_fighter'] == 'Khabib Nurmagomedov']\n",
    "b_fighter_data = ufc_data[ufc_data['b_fighter'] == 'Ilia Topuria']\n",
    "\n",
    "if not r_fighter_data.empty and not b_fighter_data.empty:\n",
    "    # Усреднение числовых данных для каждого бойца\n",
    "    r_fighter_avg = r_fighter_data.select_dtypes(include=['number']).mean()\n",
    "    b_fighter_avg = b_fighter_data.select_dtypes(include=['number']).mean()\n",
    "\n",
    "    # Создание DataFrame для предсказания\n",
    "    test_data = pd.DataFrame({\n",
    "        'r_fighter': ['Khabib Nurmagomedov'],\n",
    "        'b_fighter': ['Ilia Topuria'],\n",
    "        'r_kd': [r_fighter_avg.get('r_kd', 0)],\n",
    "        'r_sig_str': [r_fighter_avg.get('r_sig_str', 0)],\n",
    "        'r_sig_str_att': [r_fighter_avg.get('r_sig_str_att', 0)],\n",
    "        'r_sig_str_acc': [r_fighter_avg.get('r_sig_str_acc', 0)],\n",
    "        'b_kd': [b_fighter_avg.get('b_kd', 0)],\n",
    "        'b_sig_str': [b_fighter_avg.get('b_sig_str', 0)],\n",
    "        'b_sig_str_att': [b_fighter_avg.get('b_sig_str_att', 0)],\n",
    "        'b_sig_str_acc': [b_fighter_avg.get('b_sig_str_acc', 0)],\n",
    "        # Добавьте остальные необходимые признаки\n",
    "    })\n",
    "\n",
    "    # Кодирование и подготовка для предсказания\n",
    "    test_data_encoded = pd.get_dummies(test_data, drop_first=True)\n",
    "    test_data_encoded = test_data_encoded.reindex(columns=X_train.columns, fill_value=0)\n",
    "\n",
    "    # Выполнение предсказания\n",
    "    prediction = log_reg_model.predict(test_data_encoded)\n",
    "    result = \"Red (Khabib Nurmagomedov)\" if prediction[0] else \"Blue (Ilia Topuria)\"\n",
    "    print(\"Предсказание победителя:\", result)\n",
    "else:\n",
    "    print(\"Данные для одного или обоих бойцов отсутствуют в DataFrame.\")\n"
   ]
  },
  {
   "cell_type": "code",
   "execution_count": 49,
   "id": "f8a2b85e-7ee1-409f-8915-a0b9431ee86f",
   "metadata": {},
   "outputs": [
    {
     "name": "stdout",
     "output_type": "stream",
     "text": [
      "Тестовые данные для предсказания:\n",
      "        r_fighter            b_fighter      r_kd  r_sig_str  r_sig_str_att  \\\n",
      "0  Dustin Poirier  Khabib Nurmagomedov  0.454545  51.590909      97.818182   \n",
      "\n",
      "   r_sig_str_acc  b_kd  b_sig_str  b_sig_str_att  b_sig_str_acc  \n",
      "0       0.528636   0.4       34.4           87.2          0.434  \n",
      "Предсказание победителя: Red (Dustin Poirier)\n"
     ]
    }
   ],
   "source": [
    "# Подготовка данных для боя между Dustin Poirier и Khabib Nurmagomedov\n",
    "r_fighter_data = ufc_data[ufc_data['r_fighter'] == 'Dustin Poirier']\n",
    "b_fighter_data = ufc_data[ufc_data['b_fighter'] == 'Khabib Nurmagomedov']\n",
    "\n",
    "if not r_fighter_data.empty and not b_fighter_data.empty:\n",
    "    # Усреднение числовых данных для каждого бойца\n",
    "    r_fighter_avg = r_fighter_data.select_dtypes(include=['number']).mean()\n",
    "    b_fighter_avg = b_fighter_data.select_dtypes(include=['number']).mean()\n",
    "\n",
    "    # Создание DataFrame для предсказания\n",
    "    test_data = pd.DataFrame({\n",
    "        'r_fighter': ['Dustin Poirier'],\n",
    "        'b_fighter': ['Khabib Nurmagomedov'],\n",
    "        'r_kd': [r_fighter_avg.get('r_kd', 0)],\n",
    "        'r_sig_str': [r_fighter_avg.get('r_sig_str', 0)],\n",
    "        'r_sig_str_att': [r_fighter_avg.get('r_sig_str_att', 0)],\n",
    "        'r_sig_str_acc': [r_fighter_avg.get('r_sig_str_acc', 0)],\n",
    "        'b_kd': [b_fighter_avg.get('b_kd', 0)],\n",
    "        'b_sig_str': [b_fighter_avg.get('b_sig_str', 0)],\n",
    "        'b_sig_str_att': [b_fighter_avg.get('b_sig_str_att', 0)],\n",
    "        'b_sig_str_acc': [b_fighter_avg.get('b_sig_str_acc', 0)],\n",
    "        # Добавьте остальные необходимые признаки\n",
    "    })\n",
    "\n",
    "    print(\"Тестовые данные для предсказания:\")\n",
    "    print(test_data)\n",
    "    \n",
    "    # Кодирование и подготовка для предсказания\n",
    "    test_data_encoded = pd.get_dummies(test_data, drop_first=True)\n",
    "    test_data_encoded = test_data_encoded.reindex(columns=X_train.columns, fill_value=0)\n",
    "\n",
    "    # Выполнение предсказания\n",
    "    prediction = log_reg_model.predict(test_data_encoded)\n",
    "    result = \"Red (Dustin Poirier)\" if prediction[0] else \"Blue (Khabib Nurmagomedov)\"\n",
    "    print(\"Предсказание победителя:\", result)\n",
    "else:\n",
    "    print(\"Данные для одного или обоих бойцов отсутствуют в DataFrame.\")\n"
   ]
  },
  {
   "cell_type": "code",
   "execution_count": null,
   "id": "3455c960-8af8-499e-8e19-4890fbab4de9",
   "metadata": {},
   "outputs": [],
   "source": []
  }
 ],
 "metadata": {
  "kernelspec": {
   "display_name": "Python (SportiNetAI)",
   "language": "python",
   "name": "sportinetai_venv"
  },
  "language_info": {
   "codemirror_mode": {
    "name": "ipython",
    "version": 3
   },
   "file_extension": ".py",
   "mimetype": "text/x-python",
   "name": "python",
   "nbconvert_exporter": "python",
   "pygments_lexer": "ipython3",
   "version": "3.11.5"
  }
 },
 "nbformat": 4,
 "nbformat_minor": 5
}
